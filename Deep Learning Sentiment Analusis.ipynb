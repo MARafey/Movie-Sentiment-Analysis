{
 "cells": [
  {
   "cell_type": "code",
   "id": "initial_id",
   "metadata": {
    "collapsed": true,
    "ExecuteTime": {
     "end_time": "2024-06-29T10:20:28.280513Z",
     "start_time": "2024-06-29T10:20:28.267521Z"
    }
   },
   "source": [
    "import numpy as np\n",
    "import torch\n",
    "import csv\n",
    "import re\n",
    "import torch.nn as nn\n",
    "import torch.optim as optim\n",
    "from torch.utils.data import Dataset\n",
    "from sklearn.model_selection import train_test_split\n",
    "# Check if CUDA is available\n",
    "device = torch.device(\"cuda\" if torch.cuda.is_available() else \"cpu\")\n",
    "print(f\"Using device: {device}\")"
   ],
   "outputs": [
    {
     "name": "stdout",
     "output_type": "stream",
     "text": [
      "Using device: cuda\n"
     ]
    }
   ],
   "execution_count": 99
  },
  {
   "metadata": {
    "ExecuteTime": {
     "end_time": "2024-06-29T10:20:28.659514Z",
     "start_time": "2024-06-29T10:20:28.298516Z"
    }
   },
   "cell_type": "code",
   "source": [
    "# Load the data\n",
    "filename = \"archive/IMDB Dataset.csv\"\n",
    "sample_data = []\n",
    "file = open(filename, encoding=\"utf8\")\n",
    "csv_reader = csv.reader(file)\n",
    "for row in csv_reader:\n",
    "    sample_data.append(row)\n",
    "file.close()"
   ],
   "id": "7a16de857cd0394",
   "outputs": [],
   "execution_count": 100
  },
  {
   "metadata": {
    "ExecuteTime": {
     "end_time": "2024-06-29T10:20:28.865750Z",
     "start_time": "2024-06-29T10:20:28.661514Z"
    }
   },
   "cell_type": "code",
   "source": [
    "X_Values = []\n",
    "Y_Values = []"
   ],
   "id": "f0df13c8e1776d28",
   "outputs": [],
   "execution_count": 101
  },
  {
   "metadata": {
    "ExecuteTime": {
     "end_time": "2024-06-29T10:20:28.896814Z",
     "start_time": "2024-06-29T10:20:28.867752Z"
    }
   },
   "cell_type": "code",
   "source": [
    "for i in range(1, len(sample_data)):\n",
    "    X_Values.append(sample_data[i][0])\n",
    "    Y_Values.append(sample_data[i][1])"
   ],
   "id": "9c7096fa4635a400",
   "outputs": [],
   "execution_count": 102
  },
  {
   "metadata": {
    "ExecuteTime": {
     "end_time": "2024-06-29T10:20:28.912811Z",
     "start_time": "2024-06-29T10:20:28.898793Z"
    }
   },
   "cell_type": "code",
   "source": [
    "# convert the Y_Values to 0 and 1\n",
    "for i in range(len(Y_Values)):\n",
    "    if Y_Values[i] == \"positive\":\n",
    "        Y_Values[i] = 1\n",
    "    else:\n",
    "        Y_Values[i] = 0"
   ],
   "id": "399b1f79a196578c",
   "outputs": [],
   "execution_count": 103
  },
  {
   "metadata": {
    "ExecuteTime": {
     "end_time": "2024-06-29T10:20:29.658432Z",
     "start_time": "2024-06-29T10:20:28.913794Z"
    }
   },
   "cell_type": "code",
   "source": [
    "# convert both arrays to numpy arrays\n",
    "X_Values = np.array(X_Values)\n",
    "Y_Values = np.array(Y_Values)"
   ],
   "id": "4f44327933cfdfed",
   "outputs": [],
   "execution_count": 104
  },
  {
   "metadata": {
    "ExecuteTime": {
     "end_time": "2024-06-29T10:20:36.095997Z",
     "start_time": "2024-06-29T10:20:29.659095Z"
    }
   },
   "cell_type": "code",
   "source": [
    "# Removing the unwanted Tags.\n",
    "X_Values = np.array([re.sub('<.*?>', ' ', data) for data in X_Values])\n",
    "# Removing the special characters.\n",
    "X_Values = np.array([re.sub('[^a-zA-Z0-9\\s]', ' ', data) for data in X_Values])\n",
    "# Removing the extra spaces.\n",
    "X_Values = np.array([' '.join(data.split()) for data in X_Values])"
   ],
   "id": "23ea4fdb002d1b25",
   "outputs": [],
   "execution_count": 105
  },
  {
   "metadata": {
    "ExecuteTime": {
     "end_time": "2024-06-29T10:20:36.971555Z",
     "start_time": "2024-06-29T10:20:36.096926Z"
    }
   },
   "cell_type": "code",
   "source": [
    "# Split the data into training and testing data\n",
    "X_train, X_test, y_train, y_test = train_test_split(X_Values, Y_Values, test_size=0.2, random_state=42)"
   ],
   "id": "31fb174c5a5e25b2",
   "outputs": [],
   "execution_count": 106
  },
  {
   "metadata": {
    "ExecuteTime": {
     "end_time": "2024-06-29T10:20:45.209618Z",
     "start_time": "2024-06-29T10:20:36.972529Z"
    }
   },
   "cell_type": "code",
   "source": [
    "# Tokenize the data\n",
    "from tensorflow.keras.preprocessing.text import Tokenizer\n",
    "from tensorflow.keras.preprocessing.sequence import pad_sequences\n",
    "\n",
    "max_features = 10000\n",
    "maxlen = 200\n",
    "tokenizer = Tokenizer(num_words=max_features)\n",
    "tokenizer.fit_on_texts(X_train)\n",
    "x_train = tokenizer.texts_to_sequences(X_train)\n",
    "x_test = tokenizer.texts_to_sequences(X_test)\n",
    "x_train_pad = pad_sequences(x_train, maxlen=maxlen)\n",
    "x_test_pad = pad_sequences(x_test, maxlen=maxlen)\n"
   ],
   "id": "fdb295760191c7d",
   "outputs": [],
   "execution_count": 107
  },
  {
   "metadata": {
    "ExecuteTime": {
     "end_time": "2024-06-29T10:20:45.225176Z",
     "start_time": "2024-06-29T10:20:45.210515Z"
    }
   },
   "cell_type": "code",
   "source": [
    "# Create a custom dataset\n",
    "class SentimentDataset(Dataset):\n",
    "    def __init__(self, X, y):\n",
    "        self.X = X\n",
    "        self.y = y\n",
    "\n",
    "    def __len__(self):\n",
    "        return len(self.X)\n",
    "\n",
    "    def __getitem__(self, idx):\n",
    "        return self.X[idx], self.y[idx]"
   ],
   "id": "8e513fbcfae765e6",
   "outputs": [],
   "execution_count": 108
  },
  {
   "metadata": {
    "ExecuteTime": {
     "end_time": "2024-06-29T10:20:45.240489Z",
     "start_time": "2024-06-29T10:20:45.227485Z"
    }
   },
   "cell_type": "code",
   "source": [
    "# Create the dataloaders\n",
    "train_dataset = SentimentDataset(x_train_pad, y_train)\n",
    "test_dataset = SentimentDataset(x_test_pad, y_test)"
   ],
   "id": "d1d2e4d2cce70d6e",
   "outputs": [],
   "execution_count": 109
  },
  {
   "metadata": {
    "ExecuteTime": {
     "end_time": "2024-06-29T10:20:45.256491Z",
     "start_time": "2024-06-29T10:20:45.241490Z"
    }
   },
   "cell_type": "code",
   "source": [
    "class RNN(nn.Module):\n",
    "    def __init__(self, input_size, embedding_dim, hidden_size, num_layers, output_size):\n",
    "        super(RNN, self).__init__()\n",
    "        self.hidden_size = hidden_size\n",
    "        self.num_layers = num_layers\n",
    "        self.embedding = nn.Embedding(input_size, embedding_dim)\n",
    "        self.rnn = nn.RNN(embedding_dim, hidden_size, num_layers, batch_first=True)\n",
    "        self.fc = nn.Linear(hidden_size, output_size)\n",
    "\n",
    "    def forward(self, x):\n",
    "        x = self.embedding(x)\n",
    "        h0 = torch.zeros(self.num_layers, x.size(0), self.hidden_size).to(device)\n",
    "        out, _ = self.rnn(x, h0)\n",
    "        out = self.fc(out[:, -1, :])\n",
    "        return out"
   ],
   "id": "d7dcc5c0a84f34b",
   "outputs": [],
   "execution_count": 110
  },
  {
   "metadata": {
    "ExecuteTime": {
     "end_time": "2024-06-29T10:20:45.272491Z",
     "start_time": "2024-06-29T10:20:45.258493Z"
    }
   },
   "cell_type": "code",
   "source": [
    "# Hyperparameters\n",
    "input_size = max_features\n",
    "embedding_dim = 128\n",
    "hidden_size = 100\n",
    "num_layers = 5\n",
    "output_size = 1\n",
    "learning_rate = 0.001\n",
    "num_epochs = 50\n",
    "batch_size = 64"
   ],
   "id": "44d4225343ffdf71",
   "outputs": [],
   "execution_count": 111
  },
  {
   "metadata": {
    "ExecuteTime": {
     "end_time": "2024-06-29T10:20:45.304508Z",
     "start_time": "2024-06-29T10:20:45.273593Z"
    }
   },
   "cell_type": "code",
   "source": [
    "# Initialize the model\n",
    "model = RNN(input_size, embedding_dim, hidden_size, num_layers, output_size).to(device)\n",
    "# Loss and optimizer\n",
    "criterion = nn.BCEWithLogitsLoss()\n",
    "optimizer = optim.Adam(model.parameters(), lr=learning_rate)"
   ],
   "id": "291b02a55b136fd3",
   "outputs": [],
   "execution_count": 112
  },
  {
   "metadata": {
    "ExecuteTime": {
     "end_time": "2024-06-29T10:20:45.320508Z",
     "start_time": "2024-06-29T10:20:45.305491Z"
    }
   },
   "cell_type": "code",
   "source": "LossScore = []",
   "id": "d7c2d482c6675716",
   "outputs": [],
   "execution_count": 113
  },
  {
   "metadata": {
    "ExecuteTime": {
     "end_time": "2024-06-29T10:24:41.027200Z",
     "start_time": "2024-06-29T10:20:45.321494Z"
    }
   },
   "cell_type": "code",
   "source": [
    "# Train the model\n",
    "for epoch in range(num_epochs):\n",
    "    for i in range(0, len(train_dataset), batch_size):\n",
    "        x_batch, y_batch = train_dataset[i:i+batch_size]\n",
    "        x_batch = torch.tensor(x_batch).to(device).long()\n",
    "        y_batch = torch.tensor(y_batch).to(device).float()\n",
    "\n",
    "        # Forward pass\n",
    "        outputs = model(x_batch).squeeze()  # Squeeze the output\n",
    "        loss = criterion(outputs, y_batch)\n",
    "\n",
    "        # Backward and optimize\n",
    "        optimizer.zero_grad()\n",
    "        loss.backward()\n",
    "        optimizer.step()\n",
    "    print(f\"Epoch [{epoch+1}/{num_epochs}], Step [{i+1}/{len(train_dataset)//batch_size}], Loss: {loss.item():.4f}\")\n",
    "    LossScore.append(loss.item())"
   ],
   "id": "a524cd08cdceb5f2",
   "outputs": [
    {
     "name": "stdout",
     "output_type": "stream",
     "text": [
      "Epoch [1/50], Step [39937/625], Loss: 0.5866\n",
      "Epoch [2/50], Step [39937/625], Loss: 0.6805\n",
      "Epoch [3/50], Step [39937/625], Loss: 0.5792\n",
      "Epoch [4/50], Step [39937/625], Loss: 0.5238\n",
      "Epoch [5/50], Step [39937/625], Loss: 0.5845\n",
      "Epoch [6/50], Step [39937/625], Loss: 0.4792\n",
      "Epoch [7/50], Step [39937/625], Loss: 0.4400\n",
      "Epoch [8/50], Step [39937/625], Loss: 0.4384\n",
      "Epoch [9/50], Step [39937/625], Loss: 0.4138\n",
      "Epoch [10/50], Step [39937/625], Loss: 0.4279\n",
      "Epoch [11/50], Step [39937/625], Loss: 0.5137\n",
      "Epoch [12/50], Step [39937/625], Loss: 0.4358\n",
      "Epoch [13/50], Step [39937/625], Loss: 0.4107\n",
      "Epoch [14/50], Step [39937/625], Loss: 0.3829\n",
      "Epoch [15/50], Step [39937/625], Loss: 0.4011\n",
      "Epoch [16/50], Step [39937/625], Loss: 0.3457\n",
      "Epoch [17/50], Step [39937/625], Loss: 0.2837\n",
      "Epoch [18/50], Step [39937/625], Loss: 0.2484\n",
      "Epoch [19/50], Step [39937/625], Loss: 0.3051\n",
      "Epoch [20/50], Step [39937/625], Loss: 0.2601\n",
      "Epoch [21/50], Step [39937/625], Loss: 0.2595\n",
      "Epoch [22/50], Step [39937/625], Loss: 0.2033\n",
      "Epoch [23/50], Step [39937/625], Loss: 0.2434\n",
      "Epoch [24/50], Step [39937/625], Loss: 0.1868\n",
      "Epoch [25/50], Step [39937/625], Loss: 0.2140\n",
      "Epoch [26/50], Step [39937/625], Loss: 0.1601\n",
      "Epoch [27/50], Step [39937/625], Loss: 0.1722\n",
      "Epoch [28/50], Step [39937/625], Loss: 0.1981\n",
      "Epoch [29/50], Step [39937/625], Loss: 0.4592\n",
      "Epoch [30/50], Step [39937/625], Loss: 0.2155\n",
      "Epoch [31/50], Step [39937/625], Loss: 0.2353\n",
      "Epoch [32/50], Step [39937/625], Loss: 0.2119\n",
      "Epoch [33/50], Step [39937/625], Loss: 0.2025\n",
      "Epoch [34/50], Step [39937/625], Loss: 0.2431\n",
      "Epoch [35/50], Step [39937/625], Loss: 0.2368\n",
      "Epoch [36/50], Step [39937/625], Loss: 0.1382\n",
      "Epoch [37/50], Step [39937/625], Loss: 0.1890\n",
      "Epoch [38/50], Step [39937/625], Loss: 0.2376\n",
      "Epoch [39/50], Step [39937/625], Loss: 0.1835\n",
      "Epoch [40/50], Step [39937/625], Loss: 0.1366\n",
      "Epoch [41/50], Step [39937/625], Loss: 0.1380\n",
      "Epoch [42/50], Step [39937/625], Loss: 0.1273\n",
      "Epoch [43/50], Step [39937/625], Loss: 0.1338\n",
      "Epoch [44/50], Step [39937/625], Loss: 0.1296\n",
      "Epoch [45/50], Step [39937/625], Loss: 0.1296\n",
      "Epoch [46/50], Step [39937/625], Loss: 0.1265\n",
      "Epoch [47/50], Step [39937/625], Loss: 0.0821\n",
      "Epoch [48/50], Step [39937/625], Loss: 0.1283\n",
      "Epoch [49/50], Step [39937/625], Loss: 0.1589\n",
      "Epoch [50/50], Step [39937/625], Loss: 0.0664\n"
     ]
    }
   ],
   "execution_count": 114
  },
  {
   "metadata": {
    "ExecuteTime": {
     "end_time": "2024-06-29T10:24:41.419679Z",
     "start_time": "2024-06-29T10:24:41.028457Z"
    }
   },
   "cell_type": "code",
   "source": [
    "# Test the model\n",
    "model.eval()\n",
    "with torch.no_grad():\n",
    "    correct = 0\n",
    "    total = 0\n",
    "    for i in range(0, len(test_dataset), batch_size):\n",
    "        x_batch, y_batch = test_dataset[i:i+batch_size]\n",
    "        x_batch = torch.tensor(x_batch).to(device).long()\n",
    "        y_batch = torch.tensor(y_batch).to(device).float()\n",
    "\n",
    "        outputs = model(x_batch).squeeze()  # Squeeze the output\n",
    "        predicted = torch.round(torch.sigmoid(outputs))\n",
    "\n",
    "        total += y_batch.size(0)\n",
    "        correct += (predicted == y_batch).sum().item()\n",
    "\n",
    "    print(f\"Accuracy: {100*correct/total:.4f}\")"
   ],
   "id": "1d3565bd3f32338c",
   "outputs": [
    {
     "name": "stdout",
     "output_type": "stream",
     "text": [
      "Accuracy: 77.5900\n"
     ]
    }
   ],
   "execution_count": 115
  },
  {
   "metadata": {
    "ExecuteTime": {
     "end_time": "2024-06-29T10:24:41.528686Z",
     "start_time": "2024-06-29T10:24:41.421166Z"
    }
   },
   "cell_type": "code",
   "source": [
    "# plotting the loss graph\n",
    "import matplotlib.pyplot as plt\n",
    "plt.plot(LossScore)\n",
    "plt.xlabel(\"Epochs\")\n",
    "plt.ylabel(\"Loss\")\n",
    "plt.title(\"Loss vs Epochs\")\n",
    "plt.show()"
   ],
   "id": "d8cbb9d6283bc7a3",
   "outputs": [
    {
     "data": {
      "text/plain": [
       "<Figure size 640x480 with 1 Axes>"
      ],
      "image/png": "[encoded data removed]"
     },
     "metadata": {},
     "output_type": "display_data"
    }
   ],
   "execution_count": 116
  },
  {
   "metadata": {
    "ExecuteTime": {
     "end_time": "2024-06-29T10:24:41.544673Z",
     "start_time": "2024-06-29T10:24:41.530680Z"
    }
   },
   "cell_type": "code",
   "source": "",
   "id": "80eb5e0b115e0de3",
   "outputs": [],
   "execution_count": 116
  }
 ],
 "metadata": {
  "kernelspec": {
   "display_name": "Python 3",
   "language": "python",
   "name": "python3"
  },
  "language_info": {
   "codemirror_mode": {
    "name": "ipython",
    "version": 2
   },
   "file_extension": ".py",
   "mimetype": "text/x-python",
   "name": "python",
   "nbconvert_exporter": "python",
   "pygments_lexer": "ipython2",
   "version": "2.7.6"
  }
 },
 "nbformat": 4,
 "nbformat_minor": 5
}
